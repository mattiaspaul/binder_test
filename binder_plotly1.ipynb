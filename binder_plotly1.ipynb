{
 "cells": [
  {
   "cell_type": "code",
   "execution_count": null,
   "id": "hungarian-craps",
   "metadata": {},
   "outputs": [],
   "source": [
    "import plotly.graph_objects as go\n",
    "\n",
    "# Create figure\n",
    "fig = go.Figure()\n",
    "\n",
    "# Add images\n",
    "fig.add_layout_image(\n",
    "        dict(source=\"https://raw.githubusercontent.com/multimodallearning/slic_reg/main/JPCLN112_norm_red1.png\",\n",
    "            xref=\"x\",yref=\"y\",x=0,y=4,sizex=5,sizey=5,opacity=.6,layer=\"below\")\n",
    ")\n",
    "\n",
    "# Set templates\n",
    "fig.update_layout(template=\"plotly_white\")\n",
    "# shape defined programatically\n",
    "fig.add_shape(editable=True,x0=-1, x1=0, y0=2, y1=3,\n",
    "              xref='x', yref='y',opacity=0.1,)\n",
    "\n",
    "# define dragmode and add modebar buttons\n",
    "fig.update_layout(dragmode='drawopenpath',newshape_line_color='cyan')\n",
    "fig.show(config={'modeBarButtonsToAdd':['drawline','drawopenpath','drawclosedpath',\n",
    "                                        'drawcircle','drawrect','eraseshape']})"
   ]
  }
 ],
 "metadata": {
  "kernelspec": {
   "display_name": "Python 3",
   "language": "python",
   "name": "python3"
  },
  "language_info": {
   "codemirror_mode": {
    "name": "ipython",
    "version": 3
   },
   "file_extension": ".py",
   "mimetype": "text/x-python",
   "name": "python",
   "nbconvert_exporter": "python",
   "pygments_lexer": "ipython3",
   "version": "3.9.1"
  }
 },
 "nbformat": 4,
 "nbformat_minor": 5
}
